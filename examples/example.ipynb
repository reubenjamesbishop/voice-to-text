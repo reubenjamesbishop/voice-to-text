{
 "cells": [
  {
   "cell_type": "markdown",
   "metadata": {},
   "source": [
    "# Voice to Text System Example"
   ]
  },
  {
   "cell_type": "markdown",
   "metadata": {},
   "source": [
    "## Creating a transcription\n",
    "\n",
    "Here is a simple example of transcribing an audio file with the `/voice-to-text` endpoint. We simply need to attach the audio file to the post request, and handle the response. \n",
    "\n",
    "The reponse returned from the endpoint contains multiple pieces of information, including the ID of the transcription as saved in the DB, and transcription content text, the audio source used to create the transcription and some metadata about status and timing. "
   ]
  },
  {
   "cell_type": "code",
   "execution_count": 1,
   "metadata": {},
   "outputs": [
    {
     "name": "stdout",
     "output_type": "stream",
     "text": [
      "200\n",
      "{'id': '66496698e340c609c0bc6fd4', 'audio_source': './test_file.mp3', 'content': 'Thanks. Connecting you now.', 'status': 'complete', 'created_time': '2024-05-19 12:10:24.120525', 'updated_time': '2024-05-19 12:10:24.120525'}\n"
     ]
    }
   ],
   "source": [
    "import requests\n",
    "\n",
    "URL = \"http://127.0.0.1:8000/voice-to-text\"\n",
    "file_path = \"./test_file.mp3\"\n",
    "\n",
    "with open(file_path, \"rb\") as file:\n",
    "    files = {\"file\": (file_path, file, \"audio/mpeg\")}\n",
    "    response = requests.post(URL, files=files)\n",
    "\n",
    "print(response.status_code)\n",
    "print(response.json())"
   ]
  },
  {
   "cell_type": "code",
   "execution_count": 5,
   "metadata": {},
   "outputs": [
    {
     "data": {
      "text/plain": [
       "'66496698e340c609c0bc6fd4'"
      ]
     },
     "execution_count": 5,
     "metadata": {},
     "output_type": "execute_result"
    }
   ],
   "source": [
    "# A unique identifier which we can use to retrieve/update transcriptions. \n",
    "response.json()['id']"
   ]
  },
  {
   "cell_type": "code",
   "execution_count": 8,
   "metadata": {},
   "outputs": [
    {
     "data": {
      "text/plain": [
       "'Thanks. Connecting you now.'"
      ]
     },
     "execution_count": 8,
     "metadata": {},
     "output_type": "execute_result"
    }
   ],
   "source": [
    "# The transcription text, as inferred by the AssemblyAI service\n",
    "response.json()['content']"
   ]
  }
 ],
 "metadata": {
  "kernelspec": {
   "display_name": "sandbox-dev",
   "language": "python",
   "name": "python3"
  },
  "language_info": {
   "codemirror_mode": {
    "name": "ipython",
    "version": 3
   },
   "file_extension": ".py",
   "mimetype": "text/x-python",
   "name": "python",
   "nbconvert_exporter": "python",
   "pygments_lexer": "ipython3",
   "version": "3.9.16"
  }
 },
 "nbformat": 4,
 "nbformat_minor": 2
}
